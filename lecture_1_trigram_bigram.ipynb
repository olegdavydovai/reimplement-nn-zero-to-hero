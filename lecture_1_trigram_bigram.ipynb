{
 "cells": [
  {
   "cell_type": "code",
   "execution_count": 2,
   "id": "4e8d91db-3038-4b4c-ba86-9a2e83f29833",
   "metadata": {},
   "outputs": [],
   "source": [
    "# Exercises:\n",
    "# E01: train a trigram language model, i.e. take two characters as an input to predict the 3rd one. Feel free to use either counting or a neural net. Evaluate the loss; Did it improve over a bigram model?\n",
    "# E02: split up the dataset randomly into 80% train set, 10% dev set, 10% test set. Train the bigram and trigram models only on the training set. Evaluate them on dev and test splits. What can you see?\n",
    "# E03: use the dev set to tune the strength of smoothing (or regularization) for the trigram model - i.e. try many possibilities and see which one works best based on the dev set loss. What patterns can you see in the train and dev set loss as you tune this strength? Take the best setting of the smoothing and evaluate on the test set once and at the end. How good of a loss do you achieve?\n",
    "# E04: we saw that our 1-hot vectors merely select a row of W, so producing these vectors explicitly feels wasteful. Can you delete our use of F.one_hot in favor of simply indexing into rows of W?\n",
    "# E05: look up and use F.cross_entropy instead. You should achieve the same result. Can you think of why we'd prefer to use F.cross_entropy instead?"
   ]
  },
  {
   "cell_type": "code",
   "execution_count": 3,
   "id": "19cb3514-fc8b-4ff7-ab08-4628ac22d12f",
   "metadata": {},
   "outputs": [],
   "source": [
    "import torch\n",
    "import torch.nn.functional as F\n",
    "import random\n",
    "with open ('D:/Download/names.txt', 'r') as f:\n",
    "    namesx = f.read()\n",
    "az = sorted(set(namesx))\n",
    "lenaz = len(az)\n",
    "names = namesx.splitlines()\n",
    "itos = {i:v for i, v in enumerate(az)}\n",
    "itos[0] = '.'\n",
    "stoi = {v:i for i, v in itos.items()}\n",
    "random.shuffle(names)\n",
    "train_set = names[:int(0.8*len(names))]\n",
    "dev_set = names[int(0.8*len(names)):int(0.9*len(names))]\n",
    "test_set = names [int(0.9*len(names)):]"
   ]
  },
  {
   "cell_type": "code",
   "execution_count": 8,
   "id": "1579da5b-a547-4c21-99db-12469962f6be",
   "metadata": {},
   "outputs": [],
   "source": [
    "def build_set (any_set):\n",
    "    any_xs1, any_xs2, any_ys = [],[],[]\n",
    "    for name in any_set:\n",
    "        chs = ['.'] + ['.'] + list(name) + ['.']\n",
    "        for ch1, ch2, ch3 in zip(chs, chs[1:], chs[2:]):\n",
    "            ix1 = stoi[ch1]\n",
    "            ix2 = stoi[ch2]\n",
    "            ix3 = stoi[ch3]\n",
    "            any_xs1.append(ix1)\n",
    "            any_xs2.append(ix2)\n",
    "            any_ys.append(ix3)\n",
    "    print(len(any_xs1))\n",
    "    any_xs1 = torch.tensor(any_xs1)\n",
    "    any_xs2 = torch.tensor(any_xs2)\n",
    "    any_ys = torch.tensor(any_ys)\n",
    "    num = any_xs1.shape[0]\n",
    "    return any_xs1, any_xs2, any_ys, num\n",
    "    \n",
    "def lossfw(any_xs1, any_xs2, any_ys, any_num):# ,any_xenc):\n",
    "    # logits = any_xenc @ W\n",
    "    logits = W[any_xs1]+W[lenaz+any_xs2]\n",
    "    # counts = logits.exp()\n",
    "    # probs = counts/counts.sum(1,keepdim = True)\n",
    "    # p = probs[torch.arange(any_num), any_ys]\n",
    "    # loss = -p.log().mean() + reglr*(W**2).mean()\n",
    "    loss = F.cross_entropy(logits,any_ys)\n",
    "    return loss\n",
    "    \n",
    "def enc(any_xs1, any_xs2):\n",
    "    any_xenc1 = F.one_hot(any_xs1, num_classes = lenaz).float()\n",
    "    any_xenc2 = F.one_hot(any_xs2, num_classes = lenaz).float()\n",
    "    any_xenc = torch.cat((any_xenc1,any_xenc2),1)\n",
    "    return any_xenc"
   ]
  },
  {
   "cell_type": "code",
   "execution_count": 5,
   "id": "0aa842d7-8203-4281-95b6-6a22c9df887d",
   "metadata": {},
   "outputs": [
    {
     "name": "stdout",
     "output_type": "stream",
     "text": [
      "182579\n",
      "0 tensor(4.2337, grad_fn=<NllLossBackward0>)\n",
      "100 tensor(2.4807, grad_fn=<NllLossBackward0>)\n",
      "200 tensor(2.4085, grad_fn=<NllLossBackward0>)\n",
      "300 tensor(2.3832, grad_fn=<NllLossBackward0>)\n",
      "400 tensor(2.3707, grad_fn=<NllLossBackward0>)\n",
      "500 tensor(2.3632, grad_fn=<NllLossBackward0>)\n"
     ]
    }
   ],
   "source": [
    "tr_xs1, tr_xs2, tr_ys, tr_num = build_set (train_set)\n",
    "reglr = 0\n",
    "iterk = 501\n",
    "lr = 10\n",
    "g = torch.Generator().manual_seed(2147483647)  \n",
    "W = torch.randn(2*lenaz,lenaz,generator=g,requires_grad=True)\n",
    "# tr_enc = enc(tr_xs1, tr_xs2)\n",
    "for k in range (iterk):\n",
    "    tr_loss = lossfw(tr_xs1, tr_xs2, tr_ys, tr_num)#, tr_enc)\n",
    "    if k % 100 ==0:\n",
    "        print(k, tr_loss)\n",
    "    W.grad = None\n",
    "    tr_loss.backward()\n",
    "    with torch.no_grad():\n",
    "        W -= lr*W.grad\n",
    "# Bigram loss: 2.4900\n",
    "# Trigram tr_loss: 2.3632"
   ]
  },
  {
   "cell_type": "code",
   "execution_count": 198,
   "id": "3b0e7eca-89b2-4114-8b25-75678a3f7c07",
   "metadata": {},
   "outputs": [],
   "source": [
    "# reglr = 0; tr_loss = 2.3619\n",
    "# reglr = 0.0001; tr_loss = 2.3620\n",
    "# reglr = 0.001; tr_loss = 2.3629\n",
    "# reglr = 0.01; tr_loss = 2.3708\n",
    "# reglr = 0.1; tr_loss = 2.4238\n",
    "# reglr = 1; tr_loss = 2.6324\n",
    "# reglr = 10; tr_loss = 3.0265"
   ]
  },
  {
   "cell_type": "code",
   "execution_count": 6,
   "id": "72f322b5-26b0-45df-8fa3-c3fe5d4081be",
   "metadata": {},
   "outputs": [],
   "source": [
    "# reglr = 0; d_loss = 2.3668\n",
    "# reglr = 0.0001; d_loss = 2.3669\n",
    "# reglr = 0.001; d_loss = 2.3678\n",
    "# reglr = 0.01; d_loss = 2.3756\n",
    "# reglr = 0.1; d_loss = 2.4276\n",
    "# reglr = 1; d_loss = 2.6329\n",
    "# reglr = 10; d_loss = 3.0252\n",
    "\n",
    "# therefore I choose reglr=0 with min d_loss"
   ]
  },
  {
   "cell_type": "code",
   "execution_count": 268,
   "id": "bdcf4a37-4ed9-4b04-9095-2f9f63991b1f",
   "metadata": {},
   "outputs": [
    {
     "name": "stdout",
     "output_type": "stream",
     "text": [
      "22827\n"
     ]
    },
    {
     "data": {
      "text/plain": [
       "tensor(2.3668)"
      ]
     },
     "execution_count": 268,
     "metadata": {},
     "output_type": "execute_result"
    }
   ],
   "source": [
    "# evaluate dev_set\n",
    "with torch.no_grad():\n",
    "    d_xs1, d_xs2, d_ys, d_num = build_set(dev_set)\n",
    "    # d_enc = enc(d_xs1, d_xs2)\n",
    "    d_loss = lossfw(d_xs1,d_xs2 ,d_ys,d_num)\n",
    "d_loss"
   ]
  },
  {
   "cell_type": "code",
   "execution_count": 271,
   "id": "291bd0fe-a5b1-4ad5-be3f-4394f391f6fb",
   "metadata": {},
   "outputs": [
    {
     "name": "stdout",
     "output_type": "stream",
     "text": [
      "22816\n"
     ]
    },
    {
     "data": {
      "text/plain": [
       "tensor(2.3730)"
      ]
     },
     "execution_count": 271,
     "metadata": {},
     "output_type": "execute_result"
    }
   ],
   "source": [
    "# evaluate test_set\n",
    "with torch.no_grad():\n",
    "    t_xs1, t_xs2, t_ys, t_num = build_set(test_set)\n",
    "    # t_enc = enc(t_xs1, t_xs2)\n",
    "    t_loss = lossfw(t_xs1,t_xs2,t_ys,t_num)\n",
    "t_loss"
   ]
  },
  {
   "cell_type": "code",
   "execution_count": 270,
   "id": "31b16727-e670-45b0-9c22-3c538e78d5a2",
   "metadata": {},
   "outputs": [],
   "source": [
    "# t_loss = 2.3730"
   ]
  },
  {
   "cell_type": "code",
   "execution_count": 9,
   "id": "1743cbc5-29de-49a8-aa19-586c3f2f0a88",
   "metadata": {},
   "outputs": [
    {
     "name": "stdout",
     "output_type": "stream",
     "text": [
      "0 cexze.\n",
      "1 comakurailaziayh.\n",
      "2 mellimittain.\n",
      "3 lusan.\n",
      "4 ka.\n",
      "5 da.\n",
      "6 samiyaubjabhrigotai.\n",
      "7 kolielliau.\n",
      "8 na.\n",
      "9 teda.\n"
     ]
    }
   ],
   "source": [
    "g = torch.Generator().manual_seed(2147483647)\n",
    "ix1,ix2 = 0,0\n",
    "for i in range (10):\n",
    "    sample = []\n",
    "    while True:\n",
    "        xenc1 = F.one_hot(torch.tensor([ix1]), num_classes = lenaz).float()\n",
    "        xenc2 = F.one_hot(torch.tensor([ix2]), num_classes = lenaz).float()\n",
    "        xenc = torch.cat((xenc1, xenc2),1)\n",
    "        logits = xenc @ W\n",
    "        counts = logits.exp()\n",
    "        probs = counts/counts.sum(1,keepdim = True)\n",
    "        #print(probs)\n",
    "        ix1 = ix2\n",
    "        ix2 = torch.multinomial(probs, 1, replacement = True, generator = g).item()\n",
    "        sample.append(itos[ix2])\n",
    "        if ix2==0:\n",
    "            break\n",
    "    print(f\"{i} {''.join(sample)}\")"
   ]
  }
 ],
 "metadata": {
  "kernelspec": {
   "display_name": "Python 3 (ipykernel)",
   "language": "python",
   "name": "python3"
  },
  "language_info": {
   "codemirror_mode": {
    "name": "ipython",
    "version": 3
   },
   "file_extension": ".py",
   "mimetype": "text/x-python",
   "name": "python",
   "nbconvert_exporter": "python",
   "pygments_lexer": "ipython3",
   "version": "3.13.5"
  }
 },
 "nbformat": 4,
 "nbformat_minor": 5
}
