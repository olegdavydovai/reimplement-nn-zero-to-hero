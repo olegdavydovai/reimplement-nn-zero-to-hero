a = 2
b = a * 10
print (b)
