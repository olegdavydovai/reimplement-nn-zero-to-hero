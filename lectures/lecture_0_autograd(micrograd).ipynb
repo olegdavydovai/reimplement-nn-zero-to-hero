{
 "cells": [
  {
   "cell_type": "code",
   "execution_count": 22,
   "id": "157dc5af-b058-4106-a7af-17e962368e87",
   "metadata": {},
   "outputs": [],
   "source": [
    "import math\n",
    "import random\n",
    "import torch\n",
    "import torch.nn.functional as F"
   ]
  },
  {
   "cell_type": "code",
   "execution_count": 2,
   "id": "6481d361-37da-4ca1-87c5-9743cf2a8ac1",
   "metadata": {},
   "outputs": [],
   "source": [
    "class Value:\n",
    "    def __init__(self, data, parents=()):\n",
    "        self.data = data\n",
    "        self.grad = 0.0\n",
    "        self.parents = set(parents)\n",
    "        self._backward = lambda: None \n",
    "    def __repr__(self):\n",
    "        return f'V = {self.data}'\n",
    "    def __add__(self, other):\n",
    "        other = other if isinstance (other, Value) else Value(other)\n",
    "        out = Value(self.data + other.data, (self,other))\n",
    "        def _backward():\n",
    "            self.grad += out.grad\n",
    "            other.grad += out.grad\n",
    "        out._backward = _backward\n",
    "        return out\n",
    "    def __radd__(self, other):\n",
    "        return self+other\n",
    "    def __mul__(self, other):\n",
    "        other = other if isinstance (other, Value) else Value(other)\n",
    "        out = Value(self.data*other.data, (self, other))\n",
    "        def _backward():\n",
    "            self.grad += out.grad * other.data\n",
    "            other.grad += out.grad * self.data\n",
    "        out._backward = _backward\n",
    "        return out\n",
    "    def __rmul__(self, other):\n",
    "        return self*other\n",
    "    def __truediv__(self,other):\n",
    "        out = self * other**-1\n",
    "        return out\n",
    "    def __pow__(self,other):\n",
    "        assert isinstance(other,(int,float)), 'pow is int/float'\n",
    "        out = Value(self.data**other, (self,))\n",
    "        def _backward():\n",
    "            self.grad += out.grad * other * self.data**(other-1)\n",
    "        out._backward = _backward\n",
    "        return out\n",
    "    def __neg__(self):\n",
    "        out = self*-1\n",
    "        return out\n",
    "    def __sub__(self,other):\n",
    "        return self+(-other)\n",
    "    def tanh(self):\n",
    "        out = Value(math.tanh(self.data),(self,))\n",
    "        def _backward():\n",
    "            self.grad += out.grad * (1-out.data**2)\n",
    "        out._backward = _backward\n",
    "        return out\n",
    "    def backward(self):\n",
    "        topo = []\n",
    "        visited = set()\n",
    "        def build_topo(v):\n",
    "            if v not in visited:\n",
    "                visited.add(v)\n",
    "                for parent in v.parents:\n",
    "                    build_topo(parent)\n",
    "                topo.append(v)\n",
    "        build_topo(self)\n",
    "        self.grad = 1.0\n",
    "        for node in reversed(topo):\n",
    "            node._backward()\n",
    "    def exp(self):\n",
    "        x = self.data\n",
    "        out = Value(math.exp(x), (self,))\n",
    "        def _backward():\n",
    "            self.grad += out.grad * out.data\n",
    "        out._backward = _backward\n",
    "        return out\n",
    "    def log(self):\n",
    "        out = Value(math.log(self.data), (self,))\n",
    "        def _backward():\n",
    "            self.grad += out.grad * 1 / self.data\n",
    "        out._backward = _backward\n",
    "        return out"
   ]
  },
  {
   "cell_type": "code",
   "execution_count": 3,
   "id": "2e05f356-60ab-4f86-a0bc-a71e22a60f6d",
   "metadata": {},
   "outputs": [],
   "source": [
    "class Neuron:\n",
    "    def __init__(self, nin):\n",
    "        self.w = [Value(random.uniform(-1,1)) for _ in range(nin)]\n",
    "        self.b = Value(random.uniform(-1,1))\n",
    "    def __call__(self, x):\n",
    "        prod = sum((xi*wi for xi, wi in zip(x, self.w)),self.b)\n",
    "        out = prod.tanh() #забыл\n",
    "        return out\n",
    "    def parameters(self):\n",
    "        return self.w + [self.b]\n",
    "\n",
    "class Layer:\n",
    "    def __init__(self, nin, nout):\n",
    "        self.neurons = [Neuron(nin) for _ in range(nout)]\n",
    "    def __call__(self,x):\n",
    "        out = [neuron(x) for neuron in self.neurons]\n",
    "        out = out[0] if len(out) == 1 else out\n",
    "        return out\n",
    "    def parameters(self):\n",
    "        return [p for neuron in self.neurons for p in neuron.parameters()]\n",
    "class MLP:\n",
    "    def __init__(self, nin, nouts):\n",
    "        size = [nin] + nouts\n",
    "        self.layers = [Layer(size[i], size[i+1]) for i in range (len(nouts))]\n",
    "    def __call__(self, x):\n",
    "        for layer in self.layers:\n",
    "            x = layer(x)\n",
    "        return x\n",
    "    def parameters(self):\n",
    "        return [p for layer in self.layers for p in layer.parameters()]"
   ]
  },
  {
   "cell_type": "code",
   "execution_count": 11,
   "id": "0b8cb5cc-e587-49ca-8021-3adabe24e2b1",
   "metadata": {},
   "outputs": [],
   "source": [
    "n = MLP(3,[4,4,1])\n",
    "xs = [\n",
    "  [1.0, 2.0, -1.0],\n",
    "  [-1.0, 2.0, 0.5],\n",
    "  [1.5, -2, 0.5],\n",
    "  [2.0, -0.5, -2.0],\n",
    "]\n",
    "ys = [1.0, -1.0, -1.0, 1.0]"
   ]
  },
  {
   "cell_type": "code",
   "execution_count": 12,
   "id": "3878ce77-b7db-45b5-b088-41e30e542a3e",
   "metadata": {},
   "outputs": [
    {
     "name": "stdout",
     "output_type": "stream",
     "text": [
      "0 V = 6.2985412587707135\n",
      "10 V = 0.00033326432216304976\n",
      "20 V = 0.00013250355048884048\n",
      "30 V = 9.108770041702595e-05\n",
      "40 V = 7.289542877361033e-05\n",
      "50 V = 6.25602169120709e-05\n",
      "60 V = 5.583784938144848e-05\n",
      "70 V = 5.1080256846502616e-05\n",
      "80 V = 4.7512225693580675e-05\n",
      "90 V = 4.4720499998487795e-05\n",
      "100 V = 4.2464327617540104e-05\n"
     ]
    }
   ],
   "source": [
    "# forward, backward, update\n",
    "for k in range (101):\n",
    "    ypred = [n(x) for x in xs]\n",
    "    loss = sum((yout - ygt)**2 for yout, ygt in zip(ypred,ys))\n",
    "    \n",
    "    for p in n.parameters():\n",
    "        p.grad = 0.0\n",
    "    loss.backward()\n",
    "\n",
    "    for p in n.parameters():\n",
    "        p.data += -0.5 * p.grad\n",
    "    if k%10 == 0:\n",
    "        print(k, loss)"
   ]
  },
  {
   "cell_type": "code",
   "execution_count": 13,
   "id": "e8b1474a-614c-44ba-a155-329361c804c4",
   "metadata": {},
   "outputs": [
    {
     "data": {
      "text/plain": [
       "[V = 0.9972376981286654,\n",
       " V = -0.9982967016029137,\n",
       " V = -0.9953914938376808,\n",
       " V = 0.9967297612454883]"
      ]
     },
     "execution_count": 13,
     "metadata": {},
     "output_type": "execute_result"
    }
   ],
   "source": [
    "ypred"
   ]
  },
  {
   "cell_type": "code",
   "execution_count": 24,
   "id": "b8be393b-17d7-4888-b242-dce70d8128ba",
   "metadata": {},
   "outputs": [],
   "source": [
    "# Exercises"
   ]
  },
  {
   "cell_type": "code",
   "execution_count": 14,
   "id": "347630ba-d712-4bc1-82ae-29b7333ef58a",
   "metadata": {},
   "outputs": [
    {
     "name": "stdout",
     "output_type": "stream",
     "text": [
      "6.336362190988558\n"
     ]
    }
   ],
   "source": [
    "# here is a mathematical expression that takes 3 inputs and produces one output\n",
    "from math import sin, cos\n",
    "\n",
    "def f(a, b, c):\n",
    "  return -a**3 + sin(3*b) - 1.0/c + b**2.5 - a**0.5\n",
    "\n",
    "print(f(2, 3, 4))"
   ]
  },
  {
   "cell_type": "code",
   "execution_count": 15,
   "id": "69a65788-2996-4db2-9b94-0dc5f71a815f",
   "metadata": {},
   "outputs": [
    {
     "name": "stdout",
     "output_type": "stream",
     "text": [
      "OK for dim 0: expected -12.353553390593273, yours returns -12.353553390593273\n",
      "OK for dim 1: expected 10.25699027111255, yours returns 10.25699027111255\n",
      "OK for dim 2: expected 0.0625, yours returns 0.0625\n"
     ]
    }
   ],
   "source": [
    "# write the function df that returns the analytical gradient of f\n",
    "# i.e. use your skills from calculus to take the derivative, then implement the formula\n",
    "# if you do not calculus then feel free to ask wolframalpha, e.g.:\n",
    "# https://www.wolframalpha.com/input?i=d%2Fda%28sin%283*a%29%29%29\n",
    "\n",
    "def gradf(a, b, c):\n",
    "  return [-3*a**2-0.5*a**(-0.5), 3*cos(3*b)+2.5*b**1.5, c**(-2)] # todo, return [df/da, df/db, df/dc]\n",
    "\n",
    "# expected answer is the list of \n",
    "ans = [-12.353553390593273, 10.25699027111255, 0.0625]\n",
    "yours = gradf(2, 3, 4)\n",
    "for dim in range(3):\n",
    "  ok = 'OK' if abs(yours[dim] - ans[dim]) < 1e-5 else 'WRONG!'\n",
    "  print(f\"{ok} for dim {dim}: expected {ans[dim]}, yours returns {yours[dim]}\")\n"
   ]
  },
  {
   "cell_type": "code",
   "execution_count": 16,
   "id": "fb56345e-3a9f-4a58-ab03-5c45388cf662",
   "metadata": {},
   "outputs": [
    {
     "name": "stdout",
     "output_type": "stream",
     "text": [
      "OK for dim 0: expected -12.353553390593273, yours returns -12.353554623700802\n",
      "OK for dim 1: expected 10.25699027111255, yours returns 10.256990812251843\n",
      "OK for dim 2: expected 0.0625, yours returns 0.06250022721587811\n"
     ]
    }
   ],
   "source": [
    "# now estimate the gradient numerically without any calculus, using\n",
    "# the approximation we used in the video.\n",
    "# you should not call the function df from the last cell\n",
    "\n",
    "# -----------\n",
    "h = 0.000000001\n",
    "dfda = (f(2+h, 3, 4)-f(2, 3, 4))/h\n",
    "dfdb = (f(2, 3+h, 4)-f(2, 3, 4))/h\n",
    "dfdc = (f(2, 3, 4+h)-f(2, 3, 4))/h\n",
    "numerical_grad = [dfda, dfdb, dfdc] # TODO\n",
    "# -----------\n",
    "\n",
    "for dim in range(3):\n",
    "  ok = 'OK' if abs(numerical_grad[dim] - ans[dim]) < 1e-5 else 'WRONG!'\n",
    "  print(f\"{ok} for dim {dim}: expected {ans[dim]}, yours returns {numerical_grad[dim]}\")\n"
   ]
  },
  {
   "cell_type": "code",
   "execution_count": 17,
   "id": "6a5c9b8b-9625-426f-969c-2f96b16378da",
   "metadata": {},
   "outputs": [
    {
     "name": "stdout",
     "output_type": "stream",
     "text": [
      "OK for dim 0: expected -12.353553390593273, yours returns -12.353554623700802\n",
      "OK for dim 1: expected 10.25699027111255, yours returns 10.256990812251843\n",
      "OK for dim 2: expected 0.0625, yours returns 0.06250022721587811\n"
     ]
    }
   ],
   "source": [
    "# there is an alternative formula that provides a much better numerical \n",
    "# approximation to the derivative of a function.\n",
    "# learn about it here: https://en.wikipedia.org/wiki/Symmetric_derivative\n",
    "# implement it. confirm that for the same step size h this version gives a\n",
    "# better approximation.\n",
    "\n",
    "# -----------\n",
    "h = 0.000000001\n",
    "dfda = (f(2+h, 3, 4)-f(2-h, 3, 4))/(2*h)\n",
    "dfdb = (f(2, 3+h, 4)-f(2, 3-h, 4))/(2*h)\n",
    "dfdc = (f(2, 3, 4+h)-f(2, 3, 4-h))/(2*h)\n",
    "numerical_grad2 = [dfda, dfdb, dfdc] # TODO\n",
    "# -----------\n",
    "\n",
    "for dim in range(3):\n",
    "  ok = 'OK' if abs(numerical_grad2[dim] - ans[dim]) < 1e-5 else 'WRONG!'\n",
    "  print(f\"{ok} for dim {dim}: expected {ans[dim]}, yours returns {numerical_grad2[dim]}\")\n"
   ]
  },
  {
   "cell_type": "code",
   "execution_count": 20,
   "id": "fbcc28fa-a5fa-482e-b21c-aed9831cba43",
   "metadata": {},
   "outputs": [
    {
     "name": "stdout",
     "output_type": "stream",
     "text": [
      "2.1755153626167147\n",
      "OK for dim 0: expected 0.041772570515350445, yours returns 0.041772570515350445\n",
      "OK for dim 1: expected 0.8390245074625319, yours returns 0.8390245074625319\n",
      "OK for dim 2: expected 0.005653302662216329, yours returns 0.005653302662216329\n",
      "OK for dim 3: expected -0.8864503806400986, yours returns -0.8864503806400986\n"
     ]
    }
   ],
   "source": [
    "def softmax(logits):\n",
    "  counts = [logit.exp() for logit in logits]\n",
    "  denominator = sum(counts)\n",
    "  out = [c / denominator for c in counts]\n",
    "  return out\n",
    "\n",
    "# this is the negative log likelihood loss function, pervasive in classification\n",
    "logits = [Value(0.0), Value(3.0), Value(-2.0), Value(1.0)]\n",
    "probs = softmax(logits)\n",
    "loss = -probs[3].log() # dim 3 acts as the label for this input example\n",
    "loss.backward()\n",
    "print(loss.data)\n",
    "\n",
    "ans = [0.041772570515350445, 0.8390245074625319, 0.005653302662216329, -0.8864503806400986]\n",
    "for dim in range(4):\n",
    "  ok = 'OK' if abs(logits[dim].grad - ans[dim]) < 1e-5 else 'WRONG!'\n",
    "  print(f\"{ok} for dim {dim}: expected {ans[dim]}, yours returns {logits[dim].grad}\")"
   ]
  },
  {
   "cell_type": "code",
   "execution_count": 23,
   "id": "f95e0a1a-a9f1-4388-b516-01041188f4d5",
   "metadata": {},
   "outputs": [
    {
     "data": {
      "text/plain": [
       "tensor([ 0.0418,  0.8390,  0.0057, -0.8865], dtype=torch.float64)"
      ]
     },
     "execution_count": 23,
     "metadata": {},
     "output_type": "execute_result"
    }
   ],
   "source": [
    "logits = torch.tensor([0.0, 3.0, -2.0, 1.0]).double() ;  logits.requires_grad = True\n",
    "probs = F.softmax(logits, 0)\n",
    "loss = -torch.log(probs[3])\n",
    "loss.backward()\n",
    "logits.grad"
   ]
  }
 ],
 "metadata": {
  "kernelspec": {
   "display_name": "Python 3 (ipykernel)",
   "language": "python",
   "name": "python3"
  },
  "language_info": {
   "codemirror_mode": {
    "name": "ipython",
    "version": 3
   },
   "file_extension": ".py",
   "mimetype": "text/x-python",
   "name": "python",
   "nbconvert_exporter": "python",
   "pygments_lexer": "ipython3",
   "version": "3.13.5"
  }
 },
 "nbformat": 4,
 "nbformat_minor": 5
}
