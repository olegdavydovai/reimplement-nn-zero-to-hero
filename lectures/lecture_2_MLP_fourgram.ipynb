{
 "cells": [
  {
   "cell_type": "code",
   "execution_count": 97,
   "id": "0b406e3f-d20b-493c-9b6e-3b9965c6118a",
   "metadata": {},
   "outputs": [],
   "source": [
    "import torch\n",
    "import torch.nn.functional as F\n",
    "import matplotlib.pyplot as plt\n",
    "import random"
   ]
  },
  {
   "cell_type": "code",
   "execution_count": 98,
   "id": "0670f5f8-a493-4ab9-ac0b-c679af827aad",
   "metadata": {},
   "outputs": [],
   "source": [
    "with open ('D:/Download/names.txt', 'r') as f:\n",
    "    names = f.read().splitlines()\n",
    "az = sorted(set(''.join(names)))\n",
    "stoi = {s:i+1 for i, s in enumerate(az)}\n",
    "stoi['.'] = 0\n",
    "itos = {i:s for s,i in stoi.items()}\n",
    "random.seed(42)\n",
    "random.shuffle(names)"
   ]
  },
  {
   "cell_type": "code",
   "execution_count": 100,
   "id": "0850af3b-b44b-4374-863f-8591af6cfe8a",
   "metadata": {},
   "outputs": [],
   "source": [
    "context_size = 3\n",
    "\n",
    "def build_set(any_names):\n",
    "    X, Y = [], []\n",
    "    for name in any_names:\n",
    "        context = [0]*context_size\n",
    "        for chs in name + '.':\n",
    "            ix = stoi[chs]\n",
    "            X.append(context)\n",
    "            Y.append(ix)\n",
    "            context = context[1:] + [ix]\n",
    "    X = torch.tensor(X)\n",
    "    Y = torch.tensor(Y)\n",
    "    return X,Y"
   ]
  },
  {
   "cell_type": "code",
   "execution_count": 101,
   "id": "3e90a950-2d96-43dc-993a-72e59ad54f09",
   "metadata": {},
   "outputs": [],
   "source": [
    "percent_tr = 0.8\n",
    "percent_dev = 0.9\n",
    "to1 = int(percent_tr * len(names))\n",
    "to2 = int(percent_dev * len(names))\n",
    "Xtr, Ytr = build_set(names[:to1])\n",
    "Xdev, Ydev = build_set(names[to1:to2])\n",
    "Xte, Yte = build_set(names[to2:])"
   ]
  },
  {
   "cell_type": "code",
   "execution_count": 187,
   "id": "d40574c1-7ee9-4c7a-a76e-64382ba77b49",
   "metadata": {},
   "outputs": [],
   "source": [
    "# not changed: range_i, context_size, convergence time"
   ]
  },
  {
   "cell_type": "code",
   "execution_count": 188,
   "id": "f32e18ce-f09d-47e2-983e-63820656ea3a",
   "metadata": {},
   "outputs": [],
   "source": [
    "# changed: lr, n_emb, mini_batch, n_hidden, decay, linear projection (skip connection), residual connection"
   ]
  },
  {
   "cell_type": "code",
   "execution_count": 182,
   "id": "3f58fe59-97ed-4c02-bbd9-bf6567f28c4f",
   "metadata": {},
   "outputs": [
    {
     "name": "stdout",
     "output_type": "stream",
     "text": [
      "16955\n"
     ]
    }
   ],
   "source": [
    "range_i = 200001\n",
    "mini_batch = 64 # 64\n",
    "len_abet = len(stoi) # = 27\n",
    "n_emb = 16 # 16\n",
    "n_hidden = 200 # 200\n",
    "lr = 0.1 # 0.1\n",
    "lr_decay = 0.03 # 0.03\n",
    "g = torch.Generator().manual_seed(2147483647)\n",
    "C = torch.randn(len_abet, n_emb, generator = g)\n",
    "S = torch.randn(context_size*n_emb, len_abet, generator = g) * 0.01 # Skip connection \n",
    "W1 = torch.randn(context_size*n_emb, n_hidden, generator = g)\n",
    "b1 = torch.randn(n_hidden, generator = g)\n",
    "W2 = torch.randn(n_hidden, len_abet, generator = g)* 0.01\n",
    "b2 = torch.randn(len_abet, generator = g) * 0.01\n",
    "parameters = [C, W1, b1, W2, b2]\n",
    "parameters.append(S)\n",
    "for p in parameters:\n",
    "    p.requires_grad = True\n",
    "p_num = sum(p.nelement() for p in parameters)\n",
    "print(p_num)\n",
    "lossi = []\n",
    "lri = []\n",
    "lrei = []\n",
    "iteri = []\n",
    "losslogi = []\n",
    "lre = torch.linspace(-3, 0, range_i)\n",
    "lrs = 10**lre"
   ]
  },
  {
   "cell_type": "code",
   "execution_count": 183,
   "id": "ce68ef74-a58c-4e0c-8aaa-7cd5b34062cc",
   "metadata": {},
   "outputs": [
    {
     "name": "stdout",
     "output_type": "stream",
     "text": [
      "0 tensor(3.2562, grad_fn=<NllLossBackward0>) 0.1\n",
      "20000 tensor(2.1831, grad_fn=<NllLossBackward0>) 0.1\n",
      "40000 tensor(2.2410, grad_fn=<NllLossBackward0>) 0.1\n",
      "60000 tensor(2.3394, grad_fn=<NllLossBackward0>) 0.1\n",
      "80000 tensor(2.0558, grad_fn=<NllLossBackward0>) 0.1\n",
      "100000 tensor(2.1482, grad_fn=<NllLossBackward0>) 0.1\n",
      "120000 tensor(2.0130, grad_fn=<NllLossBackward0>) 0.03\n",
      "140000 tensor(2.1223, grad_fn=<NllLossBackward0>) 0.03\n",
      "160000 tensor(1.9242, grad_fn=<NllLossBackward0>) 0.03\n",
      "180000 tensor(1.7396, grad_fn=<NllLossBackward0>) 0.03\n",
      "200000 tensor(2.1020, grad_fn=<NllLossBackward0>) 0.03\n"
     ]
    }
   ],
   "source": [
    "for i in range (range_i):\n",
    "    ix = torch.randint(Xtr.shape[0], (mini_batch,), generator = g)\n",
    "    emb = C[Xtr[ix]]\n",
    "    embs = emb.view(mini_batch, -1) # (32,48)\n",
    "    h = torch.tanh(embs @ W1 + b1) # (32, 30) @ (30, 200) = (32, 200)\n",
    "    logits = h @ W2 + b2 # (32, 200) @ (200, 27) = (32, 27)\n",
    "    logits += embs @ S # linear projection it's residual-like connection\n",
    "    loss_tr_batch = F.cross_entropy(logits, Ytr[ix])\n",
    "    if i%int(range_i/10) == 0:\n",
    "        print (i, loss_tr_batch, lr)\n",
    "    for p in parameters:\n",
    "        p.grad = None\n",
    "    loss_tr_batch.backward()\n",
    "    lr = lr if i < range_i//2 else lr_decay\n",
    "    # lr = lrs[i]\n",
    "    with torch.no_grad():\n",
    "        for p in parameters:\n",
    "            p -= lr * p.grad\n",
    "        \n",
    "        # LOGS\n",
    "        # lri.append(lr)\n",
    "        # lrei.append(lre[i])\n",
    "        # lossi.append(loss_tr_batch.item())\n",
    "        # losslogi.append(loss_tr_batch.log10().item())\n",
    "        # iteri.append(i)"
   ]
  },
  {
   "cell_type": "code",
   "execution_count": 189,
   "id": "eee9da01-cfbe-425b-8d3a-2412837228fb",
   "metadata": {},
   "outputs": [
    {
     "data": {
      "text/plain": [
       "tensor(2.0474, grad_fn=<NllLossBackward0>)"
      ]
     },
     "execution_count": 189,
     "metadata": {},
     "output_type": "execute_result"
    }
   ],
   "source": [
    "emb = C[Xtr]\n",
    "embs = emb.view(Xtr.shape[0], -1)\n",
    "h = torch.tanh(embs @ W1 + b1) # (32, 30) @ (30, 200) = (32, 200)\n",
    "logits = h @ W2 + b2# (32, 200) @ (200, 27) = (32, 27)\n",
    "logits += embs @ S\n",
    "loss_tr = F.cross_entropy(logits, Ytr)\n",
    "loss_tr"
   ]
  },
  {
   "cell_type": "code",
   "execution_count": 190,
   "id": "2a5bd23a-d9b6-4d15-9e18-b2a76c5ae2d1",
   "metadata": {},
   "outputs": [],
   "source": [
    "# 200K\n",
    "# 2.0530\n",
    "# with S: 2.0478"
   ]
  },
  {
   "cell_type": "code",
   "execution_count": 191,
   "id": "3b1749c4-6f20-4e2e-85d3-761f100a9c77",
   "metadata": {
    "jupyter": {
     "source_hidden": true
    }
   },
   "outputs": [],
   "source": [
    "# 2.1260\n",
    "\n",
    "# range_i = 10K; lr = 0.05; loss_tr = 2.5626\n",
    "# range_i = 10K; lr = 0.06; loss_tr = 2.5543\n",
    "# range_i = 10K; lr = 0.07; loss_tr = 2.5766\n",
    "# range_i = 10K; lr = 0.1; loss_tr = 2.5894\n",
    "# range_i = 10K; lr = 0.13; loss_tr = 2.7750\n",
    "\n",
    "# range_i = 50K; lr = 0.05; loss_tr = 2.3248\n",
    "# range_i = 50K; lr = 0.06; loss_tr = 2.3231\n",
    "# range_i = 50K; lr = 0.07; loss_tr = 2.3139\n",
    "# range_i = 50K; lr = 0.1; loss_tr = 2.3220\n",
    "\n",
    "# range_i = 50K; lr = 0.06; lr_decay = 0.01; loss_tr = 2.2674\n",
    "\n",
    "# range_i = 200K; lr = 0.06; lr_decay = 0.01; loss_tr = 2.1562\n",
    "# range_i = 200K; lr = 0.1; lr_decay = 0.01; loss_tr = 2.1241\n",
    "\n",
    "# range_i = 200K; h=250; lr = 0.1; lr_decay = 0.01; loss_tr = 2.1149\n",
    "# range_i = 200K; h=300; lr = 0.1; lr_decay = 0.01; loss_tr = 2.1277\n",
    "\n",
    "# BEST = 2.0809"
   ]
  },
  {
   "cell_type": "code",
   "execution_count": 192,
   "id": "79918ab3-7c8c-4fe4-8b54-3d6dec2ca97f",
   "metadata": {},
   "outputs": [
    {
     "data": {
      "text/plain": [
       "tensor(2.1289, grad_fn=<NllLossBackward0>)"
      ]
     },
     "execution_count": 192,
     "metadata": {},
     "output_type": "execute_result"
    }
   ],
   "source": [
    "emb = C[Xdev]\n",
    "embs = emb.view(Xdev.shape[0], -1)\n",
    "h = torch.tanh(embs @ W1 + b1) # (32, 30) @ (30, 200) = (32, 200)\n",
    "logits = h @ W2 + b2 # (32, 200) @ (200, 27) = (32, 27)\n",
    "logits += embs @ S\n",
    "loss_dev = F.cross_entropy(logits, Ydev)\n",
    "loss_dev"
   ]
  },
  {
   "cell_type": "code",
   "execution_count": 194,
   "id": "4aab24b8-30c4-4644-949e-1a8cf196f30f",
   "metadata": {},
   "outputs": [],
   "source": [
    "# 200K\n",
    "# 2.1327\n",
    "# with S: 2.1305"
   ]
  },
  {
   "cell_type": "code",
   "execution_count": 166,
   "id": "af6c8aae-cff6-4aec-8add-f3879e52426d",
   "metadata": {
    "jupyter": {
     "source_hidden": true
    }
   },
   "outputs": [],
   "source": [
    "# range_i = 10K; lr = 0.05; loss_dev = 2.5824\n",
    "# range_i = 10K; lr = 0.06; loss_dev = 2.5726\n",
    "# range_i = 10K; lr = 0.07; loss_dev = 2.5924\n",
    "# range_i = 10K; lr = 0.1; loss_dev = 2.6082\n",
    "# range_i = 10K; lr = 0.13; loss_dev = 2.7970\n",
    "\n",
    "# range_i = 50K; lr = 0.05; loss_dev = 2.3442\n",
    "# range_i = 50K; lr = 0.06; loss_dev = 2.3398\n",
    "# range_i = 50K; lr = 0.07; loss_dev = 2.3409\n",
    "# range_i = 50K; lr = 0.1; loss_dev = 2.3469\n",
    "\n",
    "# range_i = 50K; lr = 0.06; lr_decay = 0.01; loss_dev = 2.2822\n",
    "\n",
    "# range_i = 200K; lr = 0.06; lr_decay = 0.01; loss_dev = 2.1864\n",
    "# range_i = 200K; lr = 0.1; lr_decay = 0.01; loss_dev = 2.1642\n",
    "# range_i = 200K; emb = 12; lr = 0.1; lr_decay = 0.01; loss_dev = 2.1632 \n",
    "# range_i = 200K; emb = 12; lr = 0.1; lr_decay = 0.01; loss_dev = 2.1483 \n",
    "\n",
    "# range_i = 200K; h = 250; lr = 0.1; lr_decay = 0.01; loss_dev = 2.1741\n",
    "# range_i = 200K; h = 300; lr = 0.1; lr_decay = 0.01; loss_dev = 2.1991\n",
    "\n",
    "# BEST = 2.1295"
   ]
  },
  {
   "cell_type": "code",
   "execution_count": 206,
   "id": "5bd99e2d-08cd-4605-a5e2-19f3d2f8525b",
   "metadata": {},
   "outputs": [],
   "source": [
    "# E01: Tune the hyperparameters of the training to beat my best validation loss of 2.2\n",
    "# E02: I was not careful with the intialization of the network in this video. (1) What is the loss you'd get if the predicted probabilities at initialization were perfectly uniform? What loss do we achieve? (2) Can you tune the initialization to get a starting loss that is much more similar to (1)?\n",
    "# E03: Read the Bengio et al 2003 paper (link above), implement and try any idea from the paper. Did it work?\n",
    "# Answer 01: [W2, b2, S] * 0.01 \n",
    "# Answer 02: -torch.log(torch.tensor(1/27)) = 3.2958\n",
    "# Answer 03: I build linear projection logits += embs @ S. in paper use y = b+W*x+U*tanh(d+H*x) it's veru simmilar residual connections y=F(x)+x.\n",
    "# But there y = F(x) + Wx + b, where F(x) = U*h and h = tanh(d + H*x)\n",
    "# that is, i transformed x so that it could be added to F(x)"
   ]
  },
  {
   "cell_type": "code",
   "execution_count": 196,
   "id": "6de4c720-40e4-4483-b543-0babdd4cfd9c",
   "metadata": {},
   "outputs": [
    {
     "data": {
      "text/plain": [
       "tensor(3.2958)"
      ]
     },
     "execution_count": 196,
     "metadata": {},
     "output_type": "execute_result"
    }
   ],
   "source": [
    "-torch.log(torch.tensor(1/27)) # 3.2958"
   ]
  },
  {
   "cell_type": "code",
   "execution_count": 197,
   "id": "87ccf4be-70d4-47c3-9bb2-aa666493c8a3",
   "metadata": {},
   "outputs": [],
   "source": [
    "# plt.plot(lri, lossi)"
   ]
  },
  {
   "cell_type": "code",
   "execution_count": 198,
   "id": "3e192637-da48-416f-a9f8-bd13978a2cd3",
   "metadata": {},
   "outputs": [],
   "source": [
    "# plt.plot(lrei, lossi)"
   ]
  },
  {
   "cell_type": "code",
   "execution_count": 199,
   "id": "a72be53e-2791-41bc-b6c1-f1d5e6266d27",
   "metadata": {},
   "outputs": [],
   "source": [
    "# plt.plot(lri, lossi)\n",
    "# plt.minorticks_on()  \n",
    "# plt.grid('minor')"
   ]
  },
  {
   "cell_type": "code",
   "execution_count": 200,
   "id": "cbb08d15-d2e4-403e-a6df-47a7a82c8b0b",
   "metadata": {},
   "outputs": [],
   "source": [
    "# plt.plot(lrei, lossi)\n",
    "# plt.minorticks_on()"
   ]
  },
  {
   "cell_type": "code",
   "execution_count": 201,
   "id": "0521658e-08f3-43c1-a230-b7dd7cfd0ac3",
   "metadata": {},
   "outputs": [],
   "source": [
    "# plt.plot(iteri, losslogi)"
   ]
  },
  {
   "cell_type": "code",
   "execution_count": 202,
   "id": "15e77f72-0822-40c5-862a-6453fe26a40b",
   "metadata": {},
   "outputs": [],
   "source": [
    "# plt.plot(iteri, lossi)"
   ]
  },
  {
   "cell_type": "code",
   "execution_count": 203,
   "id": "ef84bbf0-ed04-4440-9473-4542163ab469",
   "metadata": {},
   "outputs": [
    {
     "name": "stdout",
     "output_type": "stream",
     "text": [
      "ter.\n",
      "maleah.\n",
      "makilah.\n",
      "tyra.\n",
      "kalissana.\n",
      "noluwak.\n",
      "kata.\n",
      "kremiyah.\n",
      "javer.\n",
      "goton.\n"
     ]
    }
   ],
   "source": [
    "g = torch.Generator().manual_seed(2147483647)\n",
    "with torch.no_grad():\n",
    "    for k in range(10):\n",
    "        out = []\n",
    "        context = context_size * [0]\n",
    "        while True:\n",
    "            emb = C[context]\n",
    "            embs = emb.view(-1, context_size*n_emb)\n",
    "            h = torch.tanh(embs @ W1 + b1)\n",
    "            logits = h @ W2 + b2\n",
    "            logits += embs @ S\n",
    "            probs = F.softmax(logits, 1)\n",
    "            next_ix = torch.multinomial(probs, 1, replacement = True, generator = g).item()\n",
    "            context = context[1:] + [next_ix]\n",
    "            out.append(itos[next_ix])\n",
    "            if next_ix == 0:\n",
    "                break\n",
    "        print (''.join(out))"
   ]
  },
  {
   "cell_type": "code",
   "execution_count": 517,
   "id": "cec83866-5f57-4980-b483-b397fdffb969",
   "metadata": {},
   "outputs": [
    {
     "data": {
      "image/png": "[encoded data removed]",
      "text/plain": [
       "<Figure size 640x480 with 1 Axes>"
      ]
     },
     "metadata": {},
     "output_type": "display_data"
    }
   ],
   "source": [
    "plt.plot(figsize=(8,8))\n",
    "plt.scatter(C.data[:,0], C.data[:,1], s=200)\n",
    "for q in range(len_abet):\n",
    "    plt.text(C[q,0].data, C[q,1].data, itos[q], va = 'center', ha = 'center', color = 'white')\n",
    "plt.grid('minor')"
   ]
  },
  {
   "cell_type": "code",
   "execution_count": 207,
   "id": "3eacc54c-0816-47a0-9c3c-842918d40e49",
   "metadata": {},
   "outputs": [
    {
     "data": {
      "text/plain": [
       "tensor(2.1304, grad_fn=<NllLossBackward0>)"
      ]
     },
     "execution_count": 207,
     "metadata": {},
     "output_type": "execute_result"
    }
   ],
   "source": [
    "# evaluation test set loss\n",
    "emb = C[Xte]\n",
    "embs = emb.view(Xte.shape[0], -1)\n",
    "h = torch.tanh(embs @ W1 + b1) # (32, 30) @ (30, 200) = (32, 200)\n",
    "logits = h @ W2 + b2# (32, 200) @ (200, 27) = (32, 27)\n",
    "logits += embs @ S\n",
    "loss_te = F.cross_entropy(logits, Yte)\n",
    "loss_te"
   ]
  },
  {
   "cell_type": "code",
   "execution_count": 205,
   "id": "d0e3e5be-b93c-4338-b805-0175ea824e70",
   "metadata": {},
   "outputs": [],
   "source": [
    "# TEST LOSS = 2.1304"
   ]
  }
 ],
 "metadata": {
  "kernelspec": {
   "display_name": "Python 3 (ipykernel)",
   "language": "python",
   "name": "python3"
  },
  "language_info": {
   "codemirror_mode": {
    "name": "ipython",
    "version": 3
   },
   "file_extension": ".py",
   "mimetype": "text/x-python",
   "name": "python",
   "nbconvert_exporter": "python",
   "pygments_lexer": "ipython3",
   "version": "3.13.5"
  }
 },
 "nbformat": 4,
 "nbformat_minor": 5
}
